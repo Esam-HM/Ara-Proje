{
  "nbformat": 4,
  "nbformat_minor": 0,
  "metadata": {
    "colab": {
      "provenance": []
    },
    "kernelspec": {
      "name": "python3",
      "display_name": "Python 3"
    },
    "language_info": {
      "name": "python"
    }
  },
  "cells": [
    {
      "cell_type": "code",
      "execution_count": 2,
      "metadata": {
        "id": "MEikCyjKBaqI"
      },
      "outputs": [],
      "source": [
        "import os\n",
        "import torch\n",
        "import random\n",
        "import numpy as np\n",
        "import pandas as pd\n",
        "import matplotlib.pyplot as plt\n",
        "import torchvision\n",
        "import torch.nn as nn\n",
        "import torch.optim as optim\n",
        "import torchvision.transforms as T\n",
        "from tqdm import tqdm\n",
        "from PIL import Image\n",
        "from pathlib import Path\n",
        "from torch.utils.data import Dataset,DataLoader\n",
        "from sklearn.model_selection import train_test_split\n",
        "from sklearn.metrics import classification_report, confusion_matrix"
      ]
    },
    {
      "cell_type": "code",
      "source": [
        "def pad_image(image_path,target_size):\n",
        "  img = Image.open(image_path).convert('RGB')\n",
        "  resized_img = T.Resize(target_size,max_size=512)(img)\n",
        "  padding = get_padding_sizes(resized_img,target_size)\n",
        "  result = T.Pad(padding,0,\"constant\")(resized_img)\n",
        "  return result,(image_path,result.size)\n",
        "\n",
        "def get_padding_sizes(image, target_size):\n",
        "  width, height = image.size\n",
        "  hor_pad_size = target_size - width      # yatay olarak padding alanı boyutu\n",
        "  ver_pad_size = target_size - height     # düşey olarak padding alanı boyutu\n",
        "  padding_left = hor_pad_size//2\n",
        "  padding_right = hor_pad_size - padding_left\n",
        "  padding_top = ver_pad_size//2\n",
        "  padding_bottom = ver_pad_size - padding_top\n",
        "  padding = (padding_left,padding_top,padding_right,padding_bottom)\n",
        "  return padding\n",
        "\n",
        "def display_pil_image(image_path,new_size=224):\n",
        "  result = pad_image(image_path,new_size)\n",
        "  display(result[0])\n",
        "  return result[1]\n",
        "\n",
        "def sort_image_list(lst):\n",
        "  new_lst = []\n",
        "  extensions = {}\n",
        "  for i in range(0,len(lst)):\n",
        "    id = Path(lst[i]).stem\n",
        "    extensions[id] = lst[i][-4:]\n",
        "    new_lst.append(int(id))\n",
        "\n",
        "  new_lst = sorted(new_lst)\n",
        "\n",
        "  for i in range(0,len(lst)):\n",
        "    id = str(new_lst[i])\n",
        "    new_lst[i]= id + extensions[id]\n",
        "  return new_lst\n",
        "\n",
        "def display_images_labels(imgs_lst,labels_file):\n",
        "  new_img_lst = sort_image_list(imgs_lst)\n",
        "  return pd.DataFrame({\n",
        "      \"image\" : [img for img in new_img_lst],\n",
        "      \"id\" : [labels_file.iloc[i,0] for i in range(0,len(labels_file))],\n",
        "      \"Hata\" : [labels_file.iloc[i,1] for i in range(0,len(labels_file))],\n",
        "      \"Type\" : [labels_file.iloc[i,2] for i in range(0,len(labels_file))]\n",
        "      })\n",
        "\n",
        "def create_images_list(dir,sort=False,fullPath=False):\n",
        "  lst = os.listdir(dir)\n",
        "\n",
        "  if sort:\n",
        "    lst = sort_image_list(lst)\n",
        "\n",
        "  if fullPath:\n",
        "    for i,img in enumerate(lst):\n",
        "      path = os.path.join(dir,img)\n",
        "      lst[i] = path\n",
        "\n",
        "  return lst\n",
        "\n",
        "def merge_image_directories(dir1,dir2,sort=False,fullPath=False):\n",
        "  list1 = create_images_list(dir1,sort,fullPath)\n",
        "  list2 = create_images_list(dir2,sort,fullPath)\n",
        "  total = list1 + list2\n",
        "  return total\n",
        "\n",
        "## Image list must be sorted before call this function.\n",
        "## Call sort_image_list function\n",
        "def create_img_label_dict(imgs_lst,labels_lst,column_num:int):\n",
        "  dict = {}\n",
        "  for i,img in enumerate(imgs_lst):\n",
        "    dict[img] = labels_lst.iloc[i,column_num]\n",
        "  return dict"
      ],
      "metadata": {
        "id": "fFh1hhNKKdUb"
      },
      "execution_count": 7,
      "outputs": []
    },
    {
      "cell_type": "code",
      "source": [
        "furkan_images_dir = \"/content/drive/MyDrive/Ara_proje_dataset/Furkan_Pan/images\"\n",
        "gamze_images_dir = \"/content/drive/MyDrive/Ara_proje_dataset/Gamze_Pan/images\"\n",
        "furkan_excel_path = \"/content/drive/MyDrive/Ara_proje_dataset/Furkan_Pan/Furkan_Excel.xlsx\"\n",
        "gamze_excel_path = \"/content/drive/MyDrive/Ara_proje_dataset/Gamze_Pan/Furkan_Excel.xlsx\"\n",
        "total_excel_path = \"/content/drive/MyDrive/Ara_proje_dataset/Total_Excel.xlsx\"\n",
        "device = 'cuda' if torch.cuda.is_available() else 'cpu'\n",
        "transform = T.Compose([T.ToTensor(),T.Normalize([0.5], [0.2])])\n",
        "classes = {0 : \"Hatasiz\" , 1 : \"Hatali\"}\n",
        "new_size = 350      ## Must be less than max_size=512\n",
        "#transform2 = T.Compose([T.Resize(new_size,max_size=512),T.CenterCrop(new_size)])"
      ],
      "metadata": {
        "id": "TnOi153eD4Jj"
      },
      "execution_count": 16,
      "outputs": []
    },
    {
      "cell_type": "code",
      "source": [
        "f_labels_file = pd.read_excel(furkan_excel_path,header=None,keep_default_na=False)\n",
        "f_images_paths = create_images_list(furkan_images_dir,sort=True,fullPath=True)\n",
        "f_img_lbl_dict = create_img_label_dict(f_images_paths,f_labels_file,column_num=1)\n",
        "pd.Series({\n",
        "    \"labels file length =\" : len(f_labels_file),\n",
        "    \"images list length =\" : len(f_images_paths),\n",
        "    \"dictionary  length =\" : len(f_img_lbl_dict)\n",
        "}).to_frame().style.hide(axis='columns')"
      ],
      "metadata": {
        "id": "YidJ9WZAnlle",
        "colab": {
          "base_uri": "https://localhost:8080/",
          "height": 111
        },
        "outputId": "ce8ddadc-7678-4034-87cf-e94bcb40965f"
      },
      "execution_count": 8,
      "outputs": [
        {
          "output_type": "execute_result",
          "data": {
            "text/plain": [
              "<pandas.io.formats.style.Styler at 0x7c27ff24e8c0>"
            ],
            "text/html": [
              "<style type=\"text/css\">\n",
              "</style>\n",
              "<table id=\"T_67b96\" class=\"dataframe\">\n",
              "  <thead>\n",
              "  </thead>\n",
              "  <tbody>\n",
              "    <tr>\n",
              "      <th id=\"T_67b96_level0_row0\" class=\"row_heading level0 row0\" >labels file length =</th>\n",
              "      <td id=\"T_67b96_row0_col0\" class=\"data row0 col0\" >750</td>\n",
              "    </tr>\n",
              "    <tr>\n",
              "      <th id=\"T_67b96_level0_row1\" class=\"row_heading level0 row1\" >images list length =</th>\n",
              "      <td id=\"T_67b96_row1_col0\" class=\"data row1 col0\" >750</td>\n",
              "    </tr>\n",
              "    <tr>\n",
              "      <th id=\"T_67b96_level0_row2\" class=\"row_heading level0 row2\" >dictionary  length =</th>\n",
              "      <td id=\"T_67b96_row2_col0\" class=\"data row2 col0\" >750</td>\n",
              "    </tr>\n",
              "  </tbody>\n",
              "</table>\n"
            ]
          },
          "metadata": {},
          "execution_count": 8
        }
      ]
    },
    {
      "cell_type": "code",
      "source": [
        "display_images_labels(f_images_paths,f_labels_file)"
      ],
      "metadata": {
        "colab": {
          "base_uri": "https://localhost:8080/",
          "height": 423
        },
        "id": "-j7392HaJvs7",
        "outputId": "2d592b13-54b5-45c8-b92b-ab721bcce809"
      },
      "execution_count": 85,
      "outputs": [
        {
          "output_type": "execute_result",
          "data": {
            "text/plain": [
              "        image    id  Hata Type\n",
              "0       1.jpg     1     0     \n",
              "1       2.jpg     2     1    3\n",
              "2       3.jpg     3     1    4\n",
              "3       4.jpg     4     0     \n",
              "4       5.jpg     5     1    4\n",
              "..        ...   ...   ...  ...\n",
              "745  2245.jpg  2245     1    3\n",
              "746  2246.jpg  2246     0    0\n",
              "747  2247.jpg  2247     1    5\n",
              "748  2248.jpg  2248     1    2\n",
              "749  2249.jpg  2249     1    3\n",
              "\n",
              "[750 rows x 4 columns]"
            ],
            "text/html": [
              "\n",
              "  <div id=\"df-763854f7-3674-4c59-bbf0-2cfa1185b0a2\" class=\"colab-df-container\">\n",
              "    <div>\n",
              "<style scoped>\n",
              "    .dataframe tbody tr th:only-of-type {\n",
              "        vertical-align: middle;\n",
              "    }\n",
              "\n",
              "    .dataframe tbody tr th {\n",
              "        vertical-align: top;\n",
              "    }\n",
              "\n",
              "    .dataframe thead th {\n",
              "        text-align: right;\n",
              "    }\n",
              "</style>\n",
              "<table border=\"1\" class=\"dataframe\">\n",
              "  <thead>\n",
              "    <tr style=\"text-align: right;\">\n",
              "      <th></th>\n",
              "      <th>image</th>\n",
              "      <th>id</th>\n",
              "      <th>Hata</th>\n",
              "      <th>Type</th>\n",
              "    </tr>\n",
              "  </thead>\n",
              "  <tbody>\n",
              "    <tr>\n",
              "      <th>0</th>\n",
              "      <td>1.jpg</td>\n",
              "      <td>1</td>\n",
              "      <td>0</td>\n",
              "      <td></td>\n",
              "    </tr>\n",
              "    <tr>\n",
              "      <th>1</th>\n",
              "      <td>2.jpg</td>\n",
              "      <td>2</td>\n",
              "      <td>1</td>\n",
              "      <td>3</td>\n",
              "    </tr>\n",
              "    <tr>\n",
              "      <th>2</th>\n",
              "      <td>3.jpg</td>\n",
              "      <td>3</td>\n",
              "      <td>1</td>\n",
              "      <td>4</td>\n",
              "    </tr>\n",
              "    <tr>\n",
              "      <th>3</th>\n",
              "      <td>4.jpg</td>\n",
              "      <td>4</td>\n",
              "      <td>0</td>\n",
              "      <td></td>\n",
              "    </tr>\n",
              "    <tr>\n",
              "      <th>4</th>\n",
              "      <td>5.jpg</td>\n",
              "      <td>5</td>\n",
              "      <td>1</td>\n",
              "      <td>4</td>\n",
              "    </tr>\n",
              "    <tr>\n",
              "      <th>...</th>\n",
              "      <td>...</td>\n",
              "      <td>...</td>\n",
              "      <td>...</td>\n",
              "      <td>...</td>\n",
              "    </tr>\n",
              "    <tr>\n",
              "      <th>745</th>\n",
              "      <td>2245.jpg</td>\n",
              "      <td>2245</td>\n",
              "      <td>1</td>\n",
              "      <td>3</td>\n",
              "    </tr>\n",
              "    <tr>\n",
              "      <th>746</th>\n",
              "      <td>2246.jpg</td>\n",
              "      <td>2246</td>\n",
              "      <td>0</td>\n",
              "      <td>0</td>\n",
              "    </tr>\n",
              "    <tr>\n",
              "      <th>747</th>\n",
              "      <td>2247.jpg</td>\n",
              "      <td>2247</td>\n",
              "      <td>1</td>\n",
              "      <td>5</td>\n",
              "    </tr>\n",
              "    <tr>\n",
              "      <th>748</th>\n",
              "      <td>2248.jpg</td>\n",
              "      <td>2248</td>\n",
              "      <td>1</td>\n",
              "      <td>2</td>\n",
              "    </tr>\n",
              "    <tr>\n",
              "      <th>749</th>\n",
              "      <td>2249.jpg</td>\n",
              "      <td>2249</td>\n",
              "      <td>1</td>\n",
              "      <td>3</td>\n",
              "    </tr>\n",
              "  </tbody>\n",
              "</table>\n",
              "<p>750 rows × 4 columns</p>\n",
              "</div>\n",
              "    <div class=\"colab-df-buttons\">\n",
              "\n",
              "  <div class=\"colab-df-container\">\n",
              "    <button class=\"colab-df-convert\" onclick=\"convertToInteractive('df-763854f7-3674-4c59-bbf0-2cfa1185b0a2')\"\n",
              "            title=\"Convert this dataframe to an interactive table.\"\n",
              "            style=\"display:none;\">\n",
              "\n",
              "  <svg xmlns=\"http://www.w3.org/2000/svg\" height=\"24px\" viewBox=\"0 -960 960 960\">\n",
              "    <path d=\"M120-120v-720h720v720H120Zm60-500h600v-160H180v160Zm220 220h160v-160H400v160Zm0 220h160v-160H400v160ZM180-400h160v-160H180v160Zm440 0h160v-160H620v160ZM180-180h160v-160H180v160Zm440 0h160v-160H620v160Z\"/>\n",
              "  </svg>\n",
              "    </button>\n",
              "\n",
              "  <style>\n",
              "    .colab-df-container {\n",
              "      display:flex;\n",
              "      gap: 12px;\n",
              "    }\n",
              "\n",
              "    .colab-df-convert {\n",
              "      background-color: #E8F0FE;\n",
              "      border: none;\n",
              "      border-radius: 50%;\n",
              "      cursor: pointer;\n",
              "      display: none;\n",
              "      fill: #1967D2;\n",
              "      height: 32px;\n",
              "      padding: 0 0 0 0;\n",
              "      width: 32px;\n",
              "    }\n",
              "\n",
              "    .colab-df-convert:hover {\n",
              "      background-color: #E2EBFA;\n",
              "      box-shadow: 0px 1px 2px rgba(60, 64, 67, 0.3), 0px 1px 3px 1px rgba(60, 64, 67, 0.15);\n",
              "      fill: #174EA6;\n",
              "    }\n",
              "\n",
              "    .colab-df-buttons div {\n",
              "      margin-bottom: 4px;\n",
              "    }\n",
              "\n",
              "    [theme=dark] .colab-df-convert {\n",
              "      background-color: #3B4455;\n",
              "      fill: #D2E3FC;\n",
              "    }\n",
              "\n",
              "    [theme=dark] .colab-df-convert:hover {\n",
              "      background-color: #434B5C;\n",
              "      box-shadow: 0px 1px 3px 1px rgba(0, 0, 0, 0.15);\n",
              "      filter: drop-shadow(0px 1px 2px rgba(0, 0, 0, 0.3));\n",
              "      fill: #FFFFFF;\n",
              "    }\n",
              "  </style>\n",
              "\n",
              "    <script>\n",
              "      const buttonEl =\n",
              "        document.querySelector('#df-763854f7-3674-4c59-bbf0-2cfa1185b0a2 button.colab-df-convert');\n",
              "      buttonEl.style.display =\n",
              "        google.colab.kernel.accessAllowed ? 'block' : 'none';\n",
              "\n",
              "      async function convertToInteractive(key) {\n",
              "        const element = document.querySelector('#df-763854f7-3674-4c59-bbf0-2cfa1185b0a2');\n",
              "        const dataTable =\n",
              "          await google.colab.kernel.invokeFunction('convertToInteractive',\n",
              "                                                    [key], {});\n",
              "        if (!dataTable) return;\n",
              "\n",
              "        const docLinkHtml = 'Like what you see? Visit the ' +\n",
              "          '<a target=\"_blank\" href=https://colab.research.google.com/notebooks/data_table.ipynb>data table notebook</a>'\n",
              "          + ' to learn more about interactive tables.';\n",
              "        element.innerHTML = '';\n",
              "        dataTable['output_type'] = 'display_data';\n",
              "        await google.colab.output.renderOutput(dataTable, element);\n",
              "        const docLink = document.createElement('div');\n",
              "        docLink.innerHTML = docLinkHtml;\n",
              "        element.appendChild(docLink);\n",
              "      }\n",
              "    </script>\n",
              "  </div>\n",
              "\n",
              "\n",
              "<div id=\"df-21ba8054-d30b-45e0-b0ee-30b8d0993cdc\">\n",
              "  <button class=\"colab-df-quickchart\" onclick=\"quickchart('df-21ba8054-d30b-45e0-b0ee-30b8d0993cdc')\"\n",
              "            title=\"Suggest charts\"\n",
              "            style=\"display:none;\">\n",
              "\n",
              "<svg xmlns=\"http://www.w3.org/2000/svg\" height=\"24px\"viewBox=\"0 0 24 24\"\n",
              "     width=\"24px\">\n",
              "    <g>\n",
              "        <path d=\"M19 3H5c-1.1 0-2 .9-2 2v14c0 1.1.9 2 2 2h14c1.1 0 2-.9 2-2V5c0-1.1-.9-2-2-2zM9 17H7v-7h2v7zm4 0h-2V7h2v10zm4 0h-2v-4h2v4z\"/>\n",
              "    </g>\n",
              "</svg>\n",
              "  </button>\n",
              "\n",
              "<style>\n",
              "  .colab-df-quickchart {\n",
              "      --bg-color: #E8F0FE;\n",
              "      --fill-color: #1967D2;\n",
              "      --hover-bg-color: #E2EBFA;\n",
              "      --hover-fill-color: #174EA6;\n",
              "      --disabled-fill-color: #AAA;\n",
              "      --disabled-bg-color: #DDD;\n",
              "  }\n",
              "\n",
              "  [theme=dark] .colab-df-quickchart {\n",
              "      --bg-color: #3B4455;\n",
              "      --fill-color: #D2E3FC;\n",
              "      --hover-bg-color: #434B5C;\n",
              "      --hover-fill-color: #FFFFFF;\n",
              "      --disabled-bg-color: #3B4455;\n",
              "      --disabled-fill-color: #666;\n",
              "  }\n",
              "\n",
              "  .colab-df-quickchart {\n",
              "    background-color: var(--bg-color);\n",
              "    border: none;\n",
              "    border-radius: 50%;\n",
              "    cursor: pointer;\n",
              "    display: none;\n",
              "    fill: var(--fill-color);\n",
              "    height: 32px;\n",
              "    padding: 0;\n",
              "    width: 32px;\n",
              "  }\n",
              "\n",
              "  .colab-df-quickchart:hover {\n",
              "    background-color: var(--hover-bg-color);\n",
              "    box-shadow: 0 1px 2px rgba(60, 64, 67, 0.3), 0 1px 3px 1px rgba(60, 64, 67, 0.15);\n",
              "    fill: var(--button-hover-fill-color);\n",
              "  }\n",
              "\n",
              "  .colab-df-quickchart-complete:disabled,\n",
              "  .colab-df-quickchart-complete:disabled:hover {\n",
              "    background-color: var(--disabled-bg-color);\n",
              "    fill: var(--disabled-fill-color);\n",
              "    box-shadow: none;\n",
              "  }\n",
              "\n",
              "  .colab-df-spinner {\n",
              "    border: 2px solid var(--fill-color);\n",
              "    border-color: transparent;\n",
              "    border-bottom-color: var(--fill-color);\n",
              "    animation:\n",
              "      spin 1s steps(1) infinite;\n",
              "  }\n",
              "\n",
              "  @keyframes spin {\n",
              "    0% {\n",
              "      border-color: transparent;\n",
              "      border-bottom-color: var(--fill-color);\n",
              "      border-left-color: var(--fill-color);\n",
              "    }\n",
              "    20% {\n",
              "      border-color: transparent;\n",
              "      border-left-color: var(--fill-color);\n",
              "      border-top-color: var(--fill-color);\n",
              "    }\n",
              "    30% {\n",
              "      border-color: transparent;\n",
              "      border-left-color: var(--fill-color);\n",
              "      border-top-color: var(--fill-color);\n",
              "      border-right-color: var(--fill-color);\n",
              "    }\n",
              "    40% {\n",
              "      border-color: transparent;\n",
              "      border-right-color: var(--fill-color);\n",
              "      border-top-color: var(--fill-color);\n",
              "    }\n",
              "    60% {\n",
              "      border-color: transparent;\n",
              "      border-right-color: var(--fill-color);\n",
              "    }\n",
              "    80% {\n",
              "      border-color: transparent;\n",
              "      border-right-color: var(--fill-color);\n",
              "      border-bottom-color: var(--fill-color);\n",
              "    }\n",
              "    90% {\n",
              "      border-color: transparent;\n",
              "      border-bottom-color: var(--fill-color);\n",
              "    }\n",
              "  }\n",
              "</style>\n",
              "\n",
              "  <script>\n",
              "    async function quickchart(key) {\n",
              "      const quickchartButtonEl =\n",
              "        document.querySelector('#' + key + ' button');\n",
              "      quickchartButtonEl.disabled = true;  // To prevent multiple clicks.\n",
              "      quickchartButtonEl.classList.add('colab-df-spinner');\n",
              "      try {\n",
              "        const charts = await google.colab.kernel.invokeFunction(\n",
              "            'suggestCharts', [key], {});\n",
              "      } catch (error) {\n",
              "        console.error('Error during call to suggestCharts:', error);\n",
              "      }\n",
              "      quickchartButtonEl.classList.remove('colab-df-spinner');\n",
              "      quickchartButtonEl.classList.add('colab-df-quickchart-complete');\n",
              "    }\n",
              "    (() => {\n",
              "      let quickchartButtonEl =\n",
              "        document.querySelector('#df-21ba8054-d30b-45e0-b0ee-30b8d0993cdc button');\n",
              "      quickchartButtonEl.style.display =\n",
              "        google.colab.kernel.accessAllowed ? 'block' : 'none';\n",
              "    })();\n",
              "  </script>\n",
              "</div>\n",
              "\n",
              "    </div>\n",
              "  </div>\n"
            ],
            "application/vnd.google.colaboratory.intrinsic+json": {
              "type": "dataframe",
              "summary": "{\n  \"name\": \"display_images_labels(f_images_paths,f_labels_file)\",\n  \"rows\": 750,\n  \"fields\": [\n    {\n      \"column\": \"image\",\n      \"properties\": {\n        \"dtype\": \"string\",\n        \"num_unique_values\": 750,\n        \"samples\": [\n          \"806.jpg\",\n          \"538.jpg\",\n          \"191.jpg\"\n        ],\n        \"semantic_type\": \"\",\n        \"description\": \"\"\n      }\n    },\n    {\n      \"column\": \"id\",\n      \"properties\": {\n        \"dtype\": \"number\",\n        \"std\": 745,\n        \"min\": 1,\n        \"max\": 2249,\n        \"num_unique_values\": 750,\n        \"samples\": [\n          806,\n          538,\n          191\n        ],\n        \"semantic_type\": \"\",\n        \"description\": \"\"\n      }\n    },\n    {\n      \"column\": \"Hata\",\n      \"properties\": {\n        \"dtype\": \"number\",\n        \"std\": 0,\n        \"min\": 0,\n        \"max\": 1,\n        \"num_unique_values\": 2,\n        \"samples\": [\n          1,\n          0\n        ],\n        \"semantic_type\": \"\",\n        \"description\": \"\"\n      }\n    },\n    {\n      \"column\": \"Type\",\n      \"properties\": {\n        \"dtype\": \"object\",\n        \"num_unique_values\": 8,\n        \"samples\": [\n          3,\n          1\n        ],\n        \"semantic_type\": \"\",\n        \"description\": \"\"\n      }\n    }\n  ]\n}"
            }
          },
          "metadata": {},
          "execution_count": 85
        }
      ]
    },
    {
      "cell_type": "code",
      "source": [
        "s = random.choice(f_images_paths)\n",
        "img, info = pad_image(s,new_size)\n",
        "print(f\"İmage info: {info[0]} , image size: {info[1]}\")\n",
        "#img = Image.open(s)\n",
        "#trans_img = transform2(img)\n",
        "#trans_img"
      ],
      "metadata": {
        "colab": {
          "base_uri": "https://localhost:8080/",
          "height": 367
        },
        "id": "Hx0HsDKecL5n",
        "outputId": "098cd3f1-bdb7-4a6b-c45a-4817521545e2"
      },
      "execution_count": 21,
      "outputs": [
        {
          "output_type": "execute_result",
          "data": {
            "text/plain": [
              "<PIL.Image.Image image mode=RGB size=350x350>"
            ],
            "image/png": "[encoded data removed]"
          },
          "metadata": {},
          "execution_count": 21
        }
      ]
    },
    {
      "cell_type": "code",
      "source": [
        "class ImageDataset(Dataset):\n",
        "  def __init__(self, annotations, img_paths, transform=None):\n",
        "    self.img_paths = img_paths\n",
        "    self.labels = annotations\n",
        "    self.transform = transform\n",
        "\n",
        "  def __len__(self):\n",
        "    return len(self.img_paths)\n",
        "\n",
        "  def __getitem__(self, idx):\n",
        "    result = pad_image(self.img_paths[idx],new_size)\n",
        "    label = self.labels[idx]\n",
        "    if self.transform:\n",
        "        image = self.transform(result[0])\n",
        "    return image, label"
      ],
      "metadata": {
        "id": "DpSomLksjDof"
      },
      "execution_count": 5,
      "outputs": []
    },
    {
      "cell_type": "code",
      "source": [
        "x = f_images_paths\n",
        "y = []\n",
        "for i in range(0,len(f_labels_file)):\n",
        "  y.append(f_labels_file.iloc[i,1])\n",
        "x_train,x_test,y_train,y_test = train_test_split(x,y,test_size=0.2,random_state=75,stratify=y)\n",
        "print(f\"train data length: {len(x_train)} , test data length: {len(x_test)}\")"
      ],
      "metadata": {
        "colab": {
          "base_uri": "https://localhost:8080/"
        },
        "id": "IlQcTkAysVT6",
        "outputId": "fb90ac0c-a5e6-427f-bca3-288b9f3400c6"
      },
      "execution_count": 6,
      "outputs": [
        {
          "output_type": "stream",
          "name": "stdout",
          "text": [
            "train data length: 600 , test data length: 150\n"
          ]
        }
      ]
    },
    {
      "cell_type": "code",
      "source": [
        "train_dataset = ImageDataset(y_train,x_train,transform)\n",
        "test_dataset = ImageDataset(y_test,x_test,transform)\n",
        "print(f\"train dataset length: {len(train_dataset)} , test dataset length: {len(test_dataset)}\")"
      ],
      "metadata": {
        "colab": {
          "base_uri": "https://localhost:8080/"
        },
        "id": "KRRbEOEe0-zb",
        "outputId": "75a1d7fe-97fe-40e7-e659-d2e3a39e2167"
      },
      "execution_count": 7,
      "outputs": [
        {
          "output_type": "stream",
          "name": "stdout",
          "text": [
            "train dataset length: 600 , test dataset length: 150\n"
          ]
        }
      ]
    },
    {
      "cell_type": "code",
      "source": [
        "batch_size = 20\n",
        "train_dataloader = DataLoader(train_dataset,batch_size=batch_size,num_workers=2,shuffle=True)\n",
        "test_dataloader = DataLoader(test_dataset,batch_size=batch_size,num_workers=2,shuffle=True)\n",
        "pd.Series({\n",
        "    'Number of batches in train DataLoader:': len(train_dataloader),\n",
        "    'Number of batches in test DataLoader:': len(test_dataloader)}\n",
        ").to_frame().style.hide(axis='columns')"
      ],
      "metadata": {
        "colab": {
          "base_uri": "https://localhost:8080/",
          "height": 80
        },
        "id": "nlW5aVBX3F7i",
        "outputId": "27082d5c-e91c-4d00-b037-13e9bd27b6ea"
      },
      "execution_count": 8,
      "outputs": [
        {
          "output_type": "execute_result",
          "data": {
            "text/plain": [
              "<pandas.io.formats.style.Styler at 0x786401740c40>"
            ],
            "text/html": [
              "<style type=\"text/css\">\n",
              "</style>\n",
              "<table id=\"T_78292\" class=\"dataframe\">\n",
              "  <thead>\n",
              "  </thead>\n",
              "  <tbody>\n",
              "    <tr>\n",
              "      <th id=\"T_78292_level0_row0\" class=\"row_heading level0 row0\" >Number of batches in train DataLoader:</th>\n",
              "      <td id=\"T_78292_row0_col0\" class=\"data row0 col0\" >30</td>\n",
              "    </tr>\n",
              "    <tr>\n",
              "      <th id=\"T_78292_level0_row1\" class=\"row_heading level0 row1\" >Number of batches in test DataLoader:</th>\n",
              "      <td id=\"T_78292_row1_col0\" class=\"data row1 col0\" >8</td>\n",
              "    </tr>\n",
              "  </tbody>\n",
              "</table>\n"
            ]
          },
          "metadata": {},
          "execution_count": 8
        }
      ]
    },
    {
      "cell_type": "code",
      "source": [
        "dinov2_vits14 = torch.hub.load('facebookresearch/dinov2', 'dinov2_vits14')\n",
        "dinov2_vits14 = dinov2_vits14.to(device)"
      ],
      "metadata": {
        "colab": {
          "base_uri": "https://localhost:8080/"
        },
        "id": "WkqCrDILKpd-",
        "outputId": "a4df776d-bd30-4748-92d8-9618271e69d6"
      },
      "execution_count": 9,
      "outputs": [
        {
          "output_type": "stream",
          "name": "stderr",
          "text": [
            "Downloading: \"https://github.com/facebookresearch/dinov2/zipball/main\" to /root/.cache/torch/hub/main.zip\n",
            "/root/.cache/torch/hub/facebookresearch_dinov2_main/dinov2/layers/swiglu_ffn.py:51: UserWarning: xFormers is not available (SwiGLU)\n",
            "  warnings.warn(\"xFormers is not available (SwiGLU)\")\n",
            "/root/.cache/torch/hub/facebookresearch_dinov2_main/dinov2/layers/attention.py:33: UserWarning: xFormers is not available (Attention)\n",
            "  warnings.warn(\"xFormers is not available (Attention)\")\n",
            "/root/.cache/torch/hub/facebookresearch_dinov2_main/dinov2/layers/block.py:40: UserWarning: xFormers is not available (Block)\n",
            "  warnings.warn(\"xFormers is not available (Block)\")\n",
            "Downloading: \"https://dl.fbaipublicfiles.com/dinov2/dinov2_vits14/dinov2_vits14_pretrain.pth\" to /root/.cache/torch/hub/checkpoints/dinov2_vits14_pretrain.pth\n",
            "100%|██████████| 84.2M/84.2M [00:00<00:00, 179MB/s]\n"
          ]
        }
      ]
    },
    {
      "cell_type": "code",
      "source": [
        "class DinoVisionTransformerClassifier(nn.Module):\n",
        "    def __init__(self):\n",
        "        super(DinoVisionTransformerClassifier, self).__init__()\n",
        "        self.transformer = dinov2_vits14\n",
        "        self.classifier = nn.Sequential(\n",
        "            nn.Linear(384, 256),\n",
        "            nn.ReLU(),\n",
        "            nn.Linear(256, len(classes))\n",
        "        )\n",
        "\n",
        "    def forward(self, x):\n",
        "        x = self.transformer(x)\n",
        "        x = self.transformer.norm(x)\n",
        "        x = self.classifier(x)\n",
        "        return x\n",
        "\n",
        "model = DinoVisionTransformerClassifier()\n",
        "model = model.to(device)"
      ],
      "metadata": {
        "id": "w5LUMTzmLplr"
      },
      "execution_count": 10,
      "outputs": []
    },
    {
      "cell_type": "code",
      "source": [
        "loss_fn = nn.CrossEntropyLoss()\n",
        "optimizer = optim.AdamW(model.parameters(),lr=3e-5)"
      ],
      "metadata": {
        "id": "622HBTBJLy5U"
      },
      "execution_count": 11,
      "outputs": []
    },
    {
      "cell_type": "code",
      "source": [
        "num_epoch = 10\n",
        "model.train()\n",
        "for epoch in range(num_epoch):\n",
        "    train_acc = 0\n",
        "    train_loss = 0\n",
        "    loop = tqdm(train_dataloader)\n",
        "    for idx, (features, labels) in enumerate(loop):\n",
        "        features = features.to(device)\n",
        "        labels = labels.to(device)\n",
        "\n",
        "        optimizer.zero_grad()\n",
        "        outputs = model(features)\n",
        "        loss = loss_fn(outputs, labels)\n",
        "\n",
        "        predictions = outputs.argmax(dim=1, keepdim=True).squeeze()\n",
        "        correct = (predictions == labels).sum().item()\n",
        "        accuracy = correct / batch_size\n",
        "\n",
        "        loss.backward()\n",
        "        optimizer.step()\n",
        "\n",
        "        tqdm(train_dataloader).set_description(f\"Epoch [{epoch}/{num_epoch}]\")\n",
        "        tqdm(train_dataloader).set_postfix(loss=loss.item(), acc=accuracy)"
      ],
      "metadata": {
        "id": "InGKzcXBL0Hj"
      },
      "execution_count": null,
      "outputs": []
    },
    {
      "cell_type": "code",
      "source": [
        "correct = 0\n",
        "total = 0\n",
        "model.eval()\n",
        "test_predicted = []\n",
        "test_labels = []\n",
        "\n",
        "with torch.no_grad():\n",
        "    for features, labels in test_dataloader:\n",
        "        features = features.to(device)\n",
        "        labels = labels.to(device)\n",
        "\n",
        "        outputs = model(features)\n",
        "        _, predicted = torch.max(outputs.data, 1)\n",
        "        total += labels.size(0)\n",
        "        correct += (predicted.to(device) == labels).sum().item()\n",
        "\n",
        "        test_labels += (labels.cpu().numpy().tolist())\n",
        "        test_predicted += (predicted.cpu().numpy().tolist())\n",
        "\n",
        "print(f'Accuracy of the network on the {len(test_dataloader)*6} test images: {100 * correct // total} %')"
      ],
      "metadata": {
        "id": "N0CkDhrDL6o7",
        "colab": {
          "base_uri": "https://localhost:8080/"
        },
        "outputId": "13c23377-fb36-4253-b7bf-6031ddc5cd61"
      },
      "execution_count": 13,
      "outputs": [
        {
          "output_type": "stream",
          "name": "stdout",
          "text": [
            "Accuracy of the network on the 48 test images: 52 %\n"
          ]
        }
      ]
    },
    {
      "cell_type": "code",
      "source": [
        "print(classification_report(test_labels, test_predicted, target_names=list(classes.values())))"
      ],
      "metadata": {
        "id": "Z9ziImYTMAm7",
        "colab": {
          "base_uri": "https://localhost:8080/"
        },
        "outputId": "33585d99-8ccf-4f85-fb53-6d2374f346ce"
      },
      "execution_count": 14,
      "outputs": [
        {
          "output_type": "stream",
          "name": "stdout",
          "text": [
            "              precision    recall  f1-score   support\n",
            "\n",
            "     Hatasiz       0.83      0.07      0.12        76\n",
            "      Hatali       0.51      0.99      0.67        74\n",
            "\n",
            "    accuracy                           0.52       150\n",
            "   macro avg       0.67      0.53      0.40       150\n",
            "weighted avg       0.67      0.52      0.39       150\n",
            "\n"
          ]
        }
      ]
    },
    {
      "cell_type": "code",
      "source": [],
      "metadata": {
        "id": "JAodaIZIMEkD"
      },
      "execution_count": null,
      "outputs": []
    }
  ]
}