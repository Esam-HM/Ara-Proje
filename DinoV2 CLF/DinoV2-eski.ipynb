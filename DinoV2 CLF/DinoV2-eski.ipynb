{
  "nbformat": 4,
  "nbformat_minor": 0,
  "metadata": {
    "colab": {
      "provenance": [],
      "gpuType": "T4"
    },
    "kernelspec": {
      "name": "python3",
      "display_name": "Python 3"
    },
    "language_info": {
      "name": "python"
    },
    "accelerator": "GPU"
  },
  "cells": [
    {
      "cell_type": "code",
      "source": [
        "import os\n",
        "import random\n",
        "import numpy as np\n",
        "import pandas as pd\n",
        "import matplotlib.pyplot as plt\n",
        "import torch\n",
        "import torchvision\n",
        "import torch.nn as nn\n",
        "import torch.optim as optim\n",
        "import torchvision.transforms as T\n",
        "from tqdm import tqdm\n",
        "from PIL import Image\n",
        "from pathlib import Path\n",
        "from torch.utils.data import Dataset,DataLoader\n",
        "from sklearn.model_selection import KFold\n",
        "from sklearn.metrics import accuracy_score,recall_score,precision_score,f1_score,confusion_matrix,ConfusionMatrixDisplay"
      ],
      "metadata": {
        "id": "FeH6GzR-9Zp7"
      },
      "execution_count": 1,
      "outputs": []
    },
    {
      "cell_type": "code",
      "source": [
        "def pad_image(image_path,target_size):\n",
        "  img = Image.open(image_path).convert('RGB')\n",
        "  resized_img = T.Resize(target_size,max_size=300)(img)\n",
        "  padding = get_padding_sizes(resized_img,target_size)\n",
        "  result = T.Pad(padding,0,\"constant\")(resized_img)\n",
        "  return result,(image_path,result.size)\n",
        "\n",
        "def get_padding_sizes(image, target_size):\n",
        "  width, height = image.size\n",
        "  hor_pad_size = target_size - width      # yatay olarak padding alanı boyutu\n",
        "  ver_pad_size = target_size - height     # düşey olarak padding alanı boyutu\n",
        "  padding_left = hor_pad_size//2\n",
        "  padding_right = hor_pad_size - padding_left\n",
        "  padding_top = ver_pad_size//2\n",
        "  padding_bottom = ver_pad_size - padding_top\n",
        "  padding = (padding_left,padding_top,padding_right,padding_bottom)\n",
        "  return padding\n",
        "\n",
        "def sort_image_list(lst):\n",
        "  new_lst = []\n",
        "  extensions = {}\n",
        "  for i in range(0,len(lst)):\n",
        "    id = Path(lst[i]).stem\n",
        "    extensions[id] = lst[i][-4:]\n",
        "    new_lst.append(int(id))\n",
        "\n",
        "  new_lst = sorted(new_lst)\n",
        "\n",
        "  for i in range(0,len(lst)):\n",
        "    id = str(new_lst[i])\n",
        "    new_lst[i]= id + extensions[id]\n",
        "  return new_lst\n",
        "\n",
        "def display_images_errors(imgs_lst,labels_file):\n",
        "  new_img_lst = sort_image_list(imgs_lst)\n",
        "  return pd.DataFrame({\n",
        "      \"image\" : [img for img in new_img_lst],\n",
        "      \"id\" : [labels_file.iloc[i,0] for i in range(0,len(labels_file))],\n",
        "      \"Error\" : [labels_file.iloc[i,1] for i in range(0,len(labels_file))],\n",
        "      \"Type\" : [labels_file.iloc[i,2] for i in range(0,len(labels_file))]\n",
        "      })\n",
        "\n",
        "def display_images_labels(imgs_lst,image_label_dictionary):\n",
        "  return pd.DataFrame({\n",
        "      \"Image\" : [img for img in imgs_lst],\n",
        "      \"Label\" : [image_label_dictionary[img] for img in imgs_lst]\n",
        "  })\n",
        "\n",
        "def create_images_list(dir,sort=False,fullPath=False):\n",
        "  lst = os.listdir(dir)\n",
        "\n",
        "  if sort:\n",
        "    lst = sort_image_list(lst)\n",
        "\n",
        "  if fullPath:\n",
        "    for i,img in enumerate(lst):\n",
        "      path = os.path.join(dir,img)\n",
        "      lst[i] = path\n",
        "\n",
        "  return lst\n",
        "\n",
        "def merge_image_directories(dir1,dir2,sort=False,fullPath=False):\n",
        "  list1 = create_images_list(dir1,sort,fullPath)\n",
        "  list2 = create_images_list(dir2,sort,fullPath)\n",
        "  total = list1 + list2\n",
        "  return total\n",
        "\n",
        "def get_selected_indexes(indexes:list,elements:list):\n",
        "  arr = []\n",
        "  for idx in indexes:\n",
        "    arr.append(elements[idx])\n",
        "  return arr\n",
        "\n",
        "## Image list must be sorted before call this function.\n",
        "## For sorting call sort_image_list function before.\n",
        "def create_img_label_dict(imgs_lst,labels_lst,column_num:int):\n",
        "  _dict = {}\n",
        "  for i,img in enumerate(imgs_lst):\n",
        "    _dict[img] = labels_lst.iloc[i,column_num]\n",
        "  return _dict\n",
        "\n",
        "def create_cm(actual_labels,predicted,classes):\n",
        "  cm = confusion_matrix(actual_labels, predicted)\n",
        "  cm_display = ConfusionMatrixDisplay(confusion_matrix=cm, display_labels=classes)\n",
        "  cm_display.plot()\n",
        "  plt.title('Confusion Matrix')\n",
        "  plt.show()"
      ],
      "metadata": {
        "id": "JxTstB--9Xdz"
      },
      "execution_count": 2,
      "outputs": []
    },
    {
      "cell_type": "code",
      "source": [
        "furkan_images_dir = \"/content/drive/MyDrive/Ara_proje_dataset/Furkan_Pan/images\"\n",
        "gamze_images_dir = \"/content/drive/MyDrive/Ara_proje_dataset/Gamze_Pan/images\"\n",
        "furkan_excel_path = \"/content/drive/MyDrive/Ara_proje_dataset/Furkan_Pan/Furkan_Excel.xlsx\"\n",
        "gamze_excel_path = \"/content/drive/MyDrive/Ara_proje_dataset/Gamze_Pan/Gamze_Excel.xlsx\"\n",
        "total_excel_path = \"/content/drive/MyDrive/Ara_proje_dataset/Total_Excel.xlsx\"\n",
        "device = 'cuda' if torch.cuda.is_available() else 'cpu'\n",
        "transform = T.Compose([T.ToTensor(),T.Normalize([0.5], [0.2])])\n",
        "classes = [\"Hatasız\",\"Hatalı\"]\n",
        "new_size = 224      ## Must be less than max_size=512"
      ],
      "metadata": {
        "id": "VZLWMYQh9UfK"
      },
      "execution_count": 3,
      "outputs": []
    },
    {
      "cell_type": "code",
      "source": [
        "labels_file = pd.read_excel(total_excel_path,header=None,keep_default_na=False)\n",
        "images_paths = merge_image_directories(furkan_images_dir,gamze_images_dir,sort=True,fullPath=True)\n",
        "img_lbl_dict = create_img_label_dict(images_paths,labels_file,column_num=1)\n",
        "pd.Series({\n",
        "    \"labels file length =\" : len(labels_file),\n",
        "    \"images list length =\" : len(images_paths),\n",
        "    \"dictionary  length =\" : len(img_lbl_dict)\n",
        "}).to_frame().style.hide(axis='columns')"
      ],
      "metadata": {
        "colab": {
          "base_uri": "https://localhost:8080/",
          "height": 111
        },
        "id": "aMyrqo0j9SY6",
        "outputId": "646eea83-3ef5-47f5-c9de-33ce4b84ee66"
      },
      "execution_count": 4,
      "outputs": [
        {
          "output_type": "execute_result",
          "data": {
            "text/plain": [
              "<pandas.io.formats.style.Styler at 0x799c0143a5f0>"
            ],
            "text/html": [
              "<style type=\"text/css\">\n",
              "</style>\n",
              "<table id=\"T_042eb\" class=\"dataframe\">\n",
              "  <thead>\n",
              "  </thead>\n",
              "  <tbody>\n",
              "    <tr>\n",
              "      <th id=\"T_042eb_level0_row0\" class=\"row_heading level0 row0\" >labels file length =</th>\n",
              "      <td id=\"T_042eb_row0_col0\" class=\"data row0 col0\" >1497</td>\n",
              "    </tr>\n",
              "    <tr>\n",
              "      <th id=\"T_042eb_level0_row1\" class=\"row_heading level0 row1\" >images list length =</th>\n",
              "      <td id=\"T_042eb_row1_col0\" class=\"data row1 col0\" >1497</td>\n",
              "    </tr>\n",
              "    <tr>\n",
              "      <th id=\"T_042eb_level0_row2\" class=\"row_heading level0 row2\" >dictionary  length =</th>\n",
              "      <td id=\"T_042eb_row2_col0\" class=\"data row2 col0\" >1497</td>\n",
              "    </tr>\n",
              "  </tbody>\n",
              "</table>\n"
            ]
          },
          "metadata": {},
          "execution_count": 4
        }
      ]
    },
    {
      "cell_type": "code",
      "source": [
        "total_images_paths = images_paths.copy()\n",
        "images_paths = random.sample(images_paths,1400)\n",
        "len(images_paths),len(total_images_paths)"
      ],
      "metadata": {
        "colab": {
          "base_uri": "https://localhost:8080/"
        },
        "id": "mm5jm1i72dMS",
        "outputId": "7caf5a38-ed39-481f-d19b-3582a3e0ffab"
      },
      "execution_count": 5,
      "outputs": [
        {
          "output_type": "execute_result",
          "data": {
            "text/plain": [
              "(1400, 1497)"
            ]
          },
          "metadata": {},
          "execution_count": 5
        }
      ]
    },
    {
      "cell_type": "code",
      "source": [
        "def findRepeatedElements(arr):\n",
        "  i=0\n",
        "  repeated = []\n",
        "  while i<len(arr)-1:\n",
        "    found = search(arr,i,-1)\n",
        "    if found!=-1:\n",
        "      repeated.append(found)\n",
        "    i+=1\n",
        "  return repeated\n",
        "\n",
        "def search(arr,idx,element):\n",
        "  if element ==-1:\n",
        "    j=idx+1\n",
        "    element = arr[idx]\n",
        "  else:\n",
        "    j=0\n",
        "  while j<len(arr):\n",
        "    if element == arr[j]:\n",
        "      return element\n",
        "    else:\n",
        "      j+=1\n",
        "  return -1\n",
        "\n",
        "def getNotFoundElements(arr1,arr2):\n",
        "  not_found= []\n",
        "  for elm in arr1:\n",
        "    xx = search(arr2,-1,elm)\n",
        "    if xx ==-1:\n",
        "      not_found.append(elm)\n",
        "  return not_found"
      ],
      "metadata": {
        "id": "MTm3L0h426IK"
      },
      "execution_count": 6,
      "outputs": []
    },
    {
      "cell_type": "code",
      "source": [
        "print(findRepeatedElements(images_paths))\n",
        "test_images = getNotFoundElements(total_images_paths,images_paths)\n",
        "print(len(test_images))"
      ],
      "metadata": {
        "colab": {
          "base_uri": "https://localhost:8080/"
        },
        "id": "OTLExezU9YLr",
        "outputId": "ea103844-0a09-4e59-8094-8ab948f901e6"
      },
      "execution_count": 7,
      "outputs": [
        {
          "output_type": "stream",
          "name": "stdout",
          "text": [
            "[]\n",
            "97\n"
          ]
        }
      ]
    },
    {
      "cell_type": "code",
      "source": [
        "display_images_labels(images_paths,img_lbl_dict)"
      ],
      "metadata": {
        "colab": {
          "base_uri": "https://localhost:8080/",
          "height": 423
        },
        "id": "bP9ffzLPdsvu",
        "outputId": "d7ede1b5-0d46-44ca-90fb-0bddd9a3b18c"
      },
      "execution_count": 8,
      "outputs": [
        {
          "output_type": "execute_result",
          "data": {
            "text/plain": [
              "                                                  Image  Label\n",
              "0     /content/drive/MyDrive/Ara_proje_dataset/Gamze...      0\n",
              "1     /content/drive/MyDrive/Ara_proje_dataset/Gamze...      1\n",
              "2     /content/drive/MyDrive/Ara_proje_dataset/Furka...      0\n",
              "3     /content/drive/MyDrive/Ara_proje_dataset/Furka...      0\n",
              "4     /content/drive/MyDrive/Ara_proje_dataset/Gamze...      1\n",
              "...                                                 ...    ...\n",
              "1395  /content/drive/MyDrive/Ara_proje_dataset/Furka...      1\n",
              "1396  /content/drive/MyDrive/Ara_proje_dataset/Furka...      0\n",
              "1397  /content/drive/MyDrive/Ara_proje_dataset/Furka...      1\n",
              "1398  /content/drive/MyDrive/Ara_proje_dataset/Furka...      0\n",
              "1399  /content/drive/MyDrive/Ara_proje_dataset/Furka...      1\n",
              "\n",
              "[1400 rows x 2 columns]"
            ],
            "text/html": [
              "\n",
              "  <div id=\"df-c50f35b6-feb3-4ddb-a41d-7592010e8027\" class=\"colab-df-container\">\n",
              "    <div>\n",
              "<style scoped>\n",
              "    .dataframe tbody tr th:only-of-type {\n",
              "        vertical-align: middle;\n",
              "    }\n",
              "\n",
              "    .dataframe tbody tr th {\n",
              "        vertical-align: top;\n",
              "    }\n",
              "\n",
              "    .dataframe thead th {\n",
              "        text-align: right;\n",
              "    }\n",
              "</style>\n",
              "<table border=\"1\" class=\"dataframe\">\n",
              "  <thead>\n",
              "    <tr style=\"text-align: right;\">\n",
              "      <th></th>\n",
              "      <th>Image</th>\n",
              "      <th>Label</th>\n",
              "    </tr>\n",
              "  </thead>\n",
              "  <tbody>\n",
              "    <tr>\n",
              "      <th>0</th>\n",
              "      <td>/content/drive/MyDrive/Ara_proje_dataset/Gamze...</td>\n",
              "      <td>0</td>\n",
              "    </tr>\n",
              "    <tr>\n",
              "      <th>1</th>\n",
              "      <td>/content/drive/MyDrive/Ara_proje_dataset/Gamze...</td>\n",
              "      <td>1</td>\n",
              "    </tr>\n",
              "    <tr>\n",
              "      <th>2</th>\n",
              "      <td>/content/drive/MyDrive/Ara_proje_dataset/Furka...</td>\n",
              "      <td>0</td>\n",
              "    </tr>\n",
              "    <tr>\n",
              "      <th>3</th>\n",
              "      <td>/content/drive/MyDrive/Ara_proje_dataset/Furka...</td>\n",
              "      <td>0</td>\n",
              "    </tr>\n",
              "    <tr>\n",
              "      <th>4</th>\n",
              "      <td>/content/drive/MyDrive/Ara_proje_dataset/Gamze...</td>\n",
              "      <td>1</td>\n",
              "    </tr>\n",
              "    <tr>\n",
              "      <th>...</th>\n",
              "      <td>...</td>\n",
              "      <td>...</td>\n",
              "    </tr>\n",
              "    <tr>\n",
              "      <th>1395</th>\n",
              "      <td>/content/drive/MyDrive/Ara_proje_dataset/Furka...</td>\n",
              "      <td>1</td>\n",
              "    </tr>\n",
              "    <tr>\n",
              "      <th>1396</th>\n",
              "      <td>/content/drive/MyDrive/Ara_proje_dataset/Furka...</td>\n",
              "      <td>0</td>\n",
              "    </tr>\n",
              "    <tr>\n",
              "      <th>1397</th>\n",
              "      <td>/content/drive/MyDrive/Ara_proje_dataset/Furka...</td>\n",
              "      <td>1</td>\n",
              "    </tr>\n",
              "    <tr>\n",
              "      <th>1398</th>\n",
              "      <td>/content/drive/MyDrive/Ara_proje_dataset/Furka...</td>\n",
              "      <td>0</td>\n",
              "    </tr>\n",
              "    <tr>\n",
              "      <th>1399</th>\n",
              "      <td>/content/drive/MyDrive/Ara_proje_dataset/Furka...</td>\n",
              "      <td>1</td>\n",
              "    </tr>\n",
              "  </tbody>\n",
              "</table>\n",
              "<p>1400 rows × 2 columns</p>\n",
              "</div>\n",
              "    <div class=\"colab-df-buttons\">\n",
              "\n",
              "  <div class=\"colab-df-container\">\n",
              "    <button class=\"colab-df-convert\" onclick=\"convertToInteractive('df-c50f35b6-feb3-4ddb-a41d-7592010e8027')\"\n",
              "            title=\"Convert this dataframe to an interactive table.\"\n",
              "            style=\"display:none;\">\n",
              "\n",
              "  <svg xmlns=\"http://www.w3.org/2000/svg\" height=\"24px\" viewBox=\"0 -960 960 960\">\n",
              "    <path d=\"M120-120v-720h720v720H120Zm60-500h600v-160H180v160Zm220 220h160v-160H400v160Zm0 220h160v-160H400v160ZM180-400h160v-160H180v160Zm440 0h160v-160H620v160ZM180-180h160v-160H180v160Zm440 0h160v-160H620v160Z\"/>\n",
              "  </svg>\n",
              "    </button>\n",
              "\n",
              "  <style>\n",
              "    .colab-df-container {\n",
              "      display:flex;\n",
              "      gap: 12px;\n",
              "    }\n",
              "\n",
              "    .colab-df-convert {\n",
              "      background-color: #E8F0FE;\n",
              "      border: none;\n",
              "      border-radius: 50%;\n",
              "      cursor: pointer;\n",
              "      display: none;\n",
              "      fill: #1967D2;\n",
              "      height: 32px;\n",
              "      padding: 0 0 0 0;\n",
              "      width: 32px;\n",
              "    }\n",
              "\n",
              "    .colab-df-convert:hover {\n",
              "      background-color: #E2EBFA;\n",
              "      box-shadow: 0px 1px 2px rgba(60, 64, 67, 0.3), 0px 1px 3px 1px rgba(60, 64, 67, 0.15);\n",
              "      fill: #174EA6;\n",
              "    }\n",
              "\n",
              "    .colab-df-buttons div {\n",
              "      margin-bottom: 4px;\n",
              "    }\n",
              "\n",
              "    [theme=dark] .colab-df-convert {\n",
              "      background-color: #3B4455;\n",
              "      fill: #D2E3FC;\n",
              "    }\n",
              "\n",
              "    [theme=dark] .colab-df-convert:hover {\n",
              "      background-color: #434B5C;\n",
              "      box-shadow: 0px 1px 3px 1px rgba(0, 0, 0, 0.15);\n",
              "      filter: drop-shadow(0px 1px 2px rgba(0, 0, 0, 0.3));\n",
              "      fill: #FFFFFF;\n",
              "    }\n",
              "  </style>\n",
              "\n",
              "    <script>\n",
              "      const buttonEl =\n",
              "        document.querySelector('#df-c50f35b6-feb3-4ddb-a41d-7592010e8027 button.colab-df-convert');\n",
              "      buttonEl.style.display =\n",
              "        google.colab.kernel.accessAllowed ? 'block' : 'none';\n",
              "\n",
              "      async function convertToInteractive(key) {\n",
              "        const element = document.querySelector('#df-c50f35b6-feb3-4ddb-a41d-7592010e8027');\n",
              "        const dataTable =\n",
              "          await google.colab.kernel.invokeFunction('convertToInteractive',\n",
              "                                                    [key], {});\n",
              "        if (!dataTable) return;\n",
              "\n",
              "        const docLinkHtml = 'Like what you see? Visit the ' +\n",
              "          '<a target=\"_blank\" href=https://colab.research.google.com/notebooks/data_table.ipynb>data table notebook</a>'\n",
              "          + ' to learn more about interactive tables.';\n",
              "        element.innerHTML = '';\n",
              "        dataTable['output_type'] = 'display_data';\n",
              "        await google.colab.output.renderOutput(dataTable, element);\n",
              "        const docLink = document.createElement('div');\n",
              "        docLink.innerHTML = docLinkHtml;\n",
              "        element.appendChild(docLink);\n",
              "      }\n",
              "    </script>\n",
              "  </div>\n",
              "\n",
              "\n",
              "<div id=\"df-a4164f66-bd45-46f0-b8be-fb55f548e876\">\n",
              "  <button class=\"colab-df-quickchart\" onclick=\"quickchart('df-a4164f66-bd45-46f0-b8be-fb55f548e876')\"\n",
              "            title=\"Suggest charts\"\n",
              "            style=\"display:none;\">\n",
              "\n",
              "<svg xmlns=\"http://www.w3.org/2000/svg\" height=\"24px\"viewBox=\"0 0 24 24\"\n",
              "     width=\"24px\">\n",
              "    <g>\n",
              "        <path d=\"M19 3H5c-1.1 0-2 .9-2 2v14c0 1.1.9 2 2 2h14c1.1 0 2-.9 2-2V5c0-1.1-.9-2-2-2zM9 17H7v-7h2v7zm4 0h-2V7h2v10zm4 0h-2v-4h2v4z\"/>\n",
              "    </g>\n",
              "</svg>\n",
              "  </button>\n",
              "\n",
              "<style>\n",
              "  .colab-df-quickchart {\n",
              "      --bg-color: #E8F0FE;\n",
              "      --fill-color: #1967D2;\n",
              "      --hover-bg-color: #E2EBFA;\n",
              "      --hover-fill-color: #174EA6;\n",
              "      --disabled-fill-color: #AAA;\n",
              "      --disabled-bg-color: #DDD;\n",
              "  }\n",
              "\n",
              "  [theme=dark] .colab-df-quickchart {\n",
              "      --bg-color: #3B4455;\n",
              "      --fill-color: #D2E3FC;\n",
              "      --hover-bg-color: #434B5C;\n",
              "      --hover-fill-color: #FFFFFF;\n",
              "      --disabled-bg-color: #3B4455;\n",
              "      --disabled-fill-color: #666;\n",
              "  }\n",
              "\n",
              "  .colab-df-quickchart {\n",
              "    background-color: var(--bg-color);\n",
              "    border: none;\n",
              "    border-radius: 50%;\n",
              "    cursor: pointer;\n",
              "    display: none;\n",
              "    fill: var(--fill-color);\n",
              "    height: 32px;\n",
              "    padding: 0;\n",
              "    width: 32px;\n",
              "  }\n",
              "\n",
              "  .colab-df-quickchart:hover {\n",
              "    background-color: var(--hover-bg-color);\n",
              "    box-shadow: 0 1px 2px rgba(60, 64, 67, 0.3), 0 1px 3px 1px rgba(60, 64, 67, 0.15);\n",
              "    fill: var(--button-hover-fill-color);\n",
              "  }\n",
              "\n",
              "  .colab-df-quickchart-complete:disabled,\n",
              "  .colab-df-quickchart-complete:disabled:hover {\n",
              "    background-color: var(--disabled-bg-color);\n",
              "    fill: var(--disabled-fill-color);\n",
              "    box-shadow: none;\n",
              "  }\n",
              "\n",
              "  .colab-df-spinner {\n",
              "    border: 2px solid var(--fill-color);\n",
              "    border-color: transparent;\n",
              "    border-bottom-color: var(--fill-color);\n",
              "    animation:\n",
              "      spin 1s steps(1) infinite;\n",
              "  }\n",
              "\n",
              "  @keyframes spin {\n",
              "    0% {\n",
              "      border-color: transparent;\n",
              "      border-bottom-color: var(--fill-color);\n",
              "      border-left-color: var(--fill-color);\n",
              "    }\n",
              "    20% {\n",
              "      border-color: transparent;\n",
              "      border-left-color: var(--fill-color);\n",
              "      border-top-color: var(--fill-color);\n",
              "    }\n",
              "    30% {\n",
              "      border-color: transparent;\n",
              "      border-left-color: var(--fill-color);\n",
              "      border-top-color: var(--fill-color);\n",
              "      border-right-color: var(--fill-color);\n",
              "    }\n",
              "    40% {\n",
              "      border-color: transparent;\n",
              "      border-right-color: var(--fill-color);\n",
              "      border-top-color: var(--fill-color);\n",
              "    }\n",
              "    60% {\n",
              "      border-color: transparent;\n",
              "      border-right-color: var(--fill-color);\n",
              "    }\n",
              "    80% {\n",
              "      border-color: transparent;\n",
              "      border-right-color: var(--fill-color);\n",
              "      border-bottom-color: var(--fill-color);\n",
              "    }\n",
              "    90% {\n",
              "      border-color: transparent;\n",
              "      border-bottom-color: var(--fill-color);\n",
              "    }\n",
              "  }\n",
              "</style>\n",
              "\n",
              "  <script>\n",
              "    async function quickchart(key) {\n",
              "      const quickchartButtonEl =\n",
              "        document.querySelector('#' + key + ' button');\n",
              "      quickchartButtonEl.disabled = true;  // To prevent multiple clicks.\n",
              "      quickchartButtonEl.classList.add('colab-df-spinner');\n",
              "      try {\n",
              "        const charts = await google.colab.kernel.invokeFunction(\n",
              "            'suggestCharts', [key], {});\n",
              "      } catch (error) {\n",
              "        console.error('Error during call to suggestCharts:', error);\n",
              "      }\n",
              "      quickchartButtonEl.classList.remove('colab-df-spinner');\n",
              "      quickchartButtonEl.classList.add('colab-df-quickchart-complete');\n",
              "    }\n",
              "    (() => {\n",
              "      let quickchartButtonEl =\n",
              "        document.querySelector('#df-a4164f66-bd45-46f0-b8be-fb55f548e876 button');\n",
              "      quickchartButtonEl.style.display =\n",
              "        google.colab.kernel.accessAllowed ? 'block' : 'none';\n",
              "    })();\n",
              "  </script>\n",
              "</div>\n",
              "\n",
              "    </div>\n",
              "  </div>\n"
            ],
            "application/vnd.google.colaboratory.intrinsic+json": {
              "type": "dataframe",
              "summary": "{\n  \"name\": \"display_images_labels(images_paths,img_lbl_dict)\",\n  \"rows\": 1400,\n  \"fields\": [\n    {\n      \"column\": \"Image\",\n      \"properties\": {\n        \"dtype\": \"string\",\n        \"num_unique_values\": 1400,\n        \"samples\": [\n          \"/content/drive/MyDrive/Ara_proje_dataset/Gamze_Pan/images/2921.jpg\",\n          \"/content/drive/MyDrive/Ara_proje_dataset/Furkan_Pan/images/540.jpg\",\n          \"/content/drive/MyDrive/Ara_proje_dataset/Gamze_Pan/images/2932.jpg\"\n        ],\n        \"semantic_type\": \"\",\n        \"description\": \"\"\n      }\n    },\n    {\n      \"column\": \"Label\",\n      \"properties\": {\n        \"dtype\": \"number\",\n        \"std\": 0,\n        \"min\": 0,\n        \"max\": 1,\n        \"num_unique_values\": 2,\n        \"samples\": [\n          1,\n          0\n        ],\n        \"semantic_type\": \"\",\n        \"description\": \"\"\n      }\n    }\n  ]\n}"
            }
          },
          "metadata": {},
          "execution_count": 8
        }
      ]
    },
    {
      "cell_type": "code",
      "source": [
        "img_path = random.choice(images_paths)\n",
        "img = Image.open(img_path)\n",
        "img = T.Resize((100,224))(img)\n",
        "print(img_path,img.size)\n",
        "img"
      ],
      "metadata": {
        "colab": {
          "base_uri": "https://localhost:8080/",
          "height": 134
        },
        "id": "118nWsbVx82h",
        "outputId": "48c10ff3-33f4-4c5c-f4c8-387e39810352"
      },
      "execution_count": 9,
      "outputs": [
        {
          "output_type": "stream",
          "name": "stdout",
          "text": [
            "/content/drive/MyDrive/Ara_proje_dataset/Furkan_Pan/images/2078.jpg (224, 100)\n"
          ]
        },
        {
          "output_type": "execute_result",
          "data": {
            "text/plain": [
              "<PIL.Image.Image image mode=L size=224x100>"
            ],
            "image/png": "[encoded data removed]"
          },
          "metadata": {},
          "execution_count": 9
        }
      ]
    },
    {
      "cell_type": "code",
      "source": [
        "img, info = pad_image(img_path,224)\n",
        "print(info)\n",
        "img"
      ],
      "metadata": {
        "colab": {
          "base_uri": "https://localhost:8080/",
          "height": 258
        },
        "id": "gpm18PQ8dtaV",
        "outputId": "db18292a-7b0d-4688-dd02-1e2dd2ae6b85"
      },
      "execution_count": 10,
      "outputs": [
        {
          "output_type": "stream",
          "name": "stdout",
          "text": [
            "('/content/drive/MyDrive/Ara_proje_dataset/Furkan_Pan/images/2078.jpg', (224, 224))\n"
          ]
        },
        {
          "output_type": "execute_result",
          "data": {
            "text/plain": [
              "<PIL.Image.Image image mode=RGB size=224x224>"
            ],
            "image/png": "[encoded data removed]"
          },
          "metadata": {},
          "execution_count": 10
        }
      ]
    },
    {
      "cell_type": "code",
      "source": [
        "dinov2_vits14 = torch.hub.load('facebookresearch/dinov2', 'dinov2_vits14')\n",
        "dinov2_vits14 = dinov2_vits14.to(device)"
      ],
      "metadata": {
        "colab": {
          "base_uri": "https://localhost:8080/"
        },
        "id": "hWsDEaEndwRe",
        "outputId": "71201f64-a520-41cf-c78d-608512a3c58a"
      },
      "execution_count": 11,
      "outputs": [
        {
          "output_type": "stream",
          "name": "stderr",
          "text": [
            "Downloading: \"https://github.com/facebookresearch/dinov2/zipball/main\" to /root/.cache/torch/hub/main.zip\n",
            "/root/.cache/torch/hub/facebookresearch_dinov2_main/dinov2/layers/swiglu_ffn.py:51: UserWarning: xFormers is not available (SwiGLU)\n",
            "  warnings.warn(\"xFormers is not available (SwiGLU)\")\n",
            "/root/.cache/torch/hub/facebookresearch_dinov2_main/dinov2/layers/attention.py:33: UserWarning: xFormers is not available (Attention)\n",
            "  warnings.warn(\"xFormers is not available (Attention)\")\n",
            "/root/.cache/torch/hub/facebookresearch_dinov2_main/dinov2/layers/block.py:40: UserWarning: xFormers is not available (Block)\n",
            "  warnings.warn(\"xFormers is not available (Block)\")\n",
            "Downloading: \"https://dl.fbaipublicfiles.com/dinov2/dinov2_vits14/dinov2_vits14_pretrain.pth\" to /root/.cache/torch/hub/checkpoints/dinov2_vits14_pretrain.pth\n",
            "100%|██████████| 84.2M/84.2M [00:00<00:00, 167MB/s]\n"
          ]
        }
      ]
    },
    {
      "cell_type": "code",
      "source": [
        "class ImageDataset(Dataset):\n",
        "  def __init__(self, img_paths, img_lbl_dict , transform=None):\n",
        "    self.img_paths = img_paths\n",
        "    self.image_label_dictionary = img_lbl_dict\n",
        "    self.transform = transform\n",
        "\n",
        "  def __len__(self):\n",
        "    return len(self.img_paths)\n",
        "\n",
        "  def __getitem__(self, idx):\n",
        "    global new_size\n",
        "    result = pad_image(self.img_paths[idx],new_size)\n",
        "    label = self.image_label_dictionary[self.img_paths[idx]]\n",
        "    if self.transform:\n",
        "        image = self.transform(result[0])\n",
        "    return image, label\n",
        "\n",
        "class DinoVisionTransformerClassifier(nn.Module):\n",
        "    def __init__(self):\n",
        "        super(DinoVisionTransformerClassifier, self).__init__()\n",
        "        self.transformer = dinov2_vits14\n",
        "        self.classifier = nn.Sequential(\n",
        "            nn.Linear(384, 256),\n",
        "            nn.ReLU(),\n",
        "            nn.Linear(256, len(classes))\n",
        "        )\n",
        "\n",
        "    def forward(self, x):\n",
        "        x = self.transformer(x)\n",
        "        x = self.transformer.norm(x)\n",
        "        x = self.classifier(x)\n",
        "        return x"
      ],
      "metadata": {
        "id": "Umkfv-wjdzd1"
      },
      "execution_count": 12,
      "outputs": []
    },
    {
      "cell_type": "code",
      "source": [
        "model = DinoVisionTransformerClassifier().to(device)        ## Initialize model\n",
        "loss_func = nn.CrossEntropyLoss()                           ## loss function\n",
        "optimizer = optim.AdamW(model.parameters(),lr=3e-5)         ## optimizer\n",
        "batch_size = 20                                             ## batch size\n",
        "num_epochs = 10                                             ## number of epochs\n",
        "K = 5                                                       ## Folds number\n",
        "kf = KFold(n_splits=K)                                      ## Define K-Fold method for cross validation"
      ],
      "metadata": {
        "id": "JBhlAVEed209"
      },
      "execution_count": 13,
      "outputs": []
    },
    {
      "cell_type": "code",
      "source": [
        "def run_epoch(num_epochs,epoch_id,model,dataloader,is_training):\n",
        "    acc, lossValue, corrects, count= 0, 0, 0, 0\n",
        "    loop = tqdm(dataloader)                                  ## Show progress bar for train loop.\n",
        "    ## Set model mode to train.\n",
        "    model.train()\n",
        "    for idx, sample in enumerate(loop):                    ## iterate whole train dataset with batches.\n",
        "      ## Get images and their corresponding labels.\n",
        "      imgs, labels = sample\n",
        "      imgs = imgs.to(device)\n",
        "      labels = labels.to(device)\n",
        "\n",
        "      if is_training:\n",
        "        optimizer.zero_grad()                             ## Reset grads to zero.\n",
        "\n",
        "      outputs = model(imgs)                               ## make predictions\n",
        "\n",
        "      predictions = outputs.argmax(dim=1, keepdim=True).squeeze() ## Get highest probability predicted class for each input sample.\n",
        "      count += len(predictions)\n",
        "      corrects += (predictions == labels).sum().item()    ## Count the correct predictions.\n",
        "\n",
        "      ## Calculate loss value.\n",
        "      loss = loss_func(outputs,labels)\n",
        "      if is_training:\n",
        "        loss.backward()                                   ## Calculate gradiants of the loss.\n",
        "        optimizer.step()                                  ## Update optimizer parameters.\n",
        "\n",
        "      lossValue += loss.item()                            ## Get loss value.\n",
        "      acc = corrects/count\n",
        "      avg_loss = lossValue/len(dataloader)\n",
        "      ## Update progress bar.\n",
        "      if is_training:\n",
        "        loop.set_description(f\"Epoch: [{epoch+1}/{num_epochs}]\")\n",
        "      else:\n",
        "        loop.set_description(\"Evaluation Step:\")\n",
        "      loop.set_postfix(Avg_Loss= avg_loss, Loss = loss.item(), Accuracy = acc)\n",
        "\n",
        "    return acc, avg_loss"
      ],
      "metadata": {
        "id": "8JdzAWBTeqfW"
      },
      "execution_count": 14,
      "outputs": []
    },
    {
      "cell_type": "code",
      "source": [
        "## Train loop\n",
        "losses = []\n",
        "acc = []\n",
        "for i, (train_index, test_index) in enumerate(kf.split(images_paths)):\n",
        "  print(f\"Fold {i+1}/{K}\")\n",
        "  ## Get select items for train/test folds.\n",
        "  x_train = get_selected_indexes(train_index,images_paths)\n",
        "  x_test  = get_selected_indexes(test_index,images_paths)\n",
        "\n",
        "  ## Initialize train/test dataset instances.\n",
        "  train_dataset = ImageDataset(x_train,img_lbl_dict,transform)\n",
        "  test_dataset = ImageDataset(x_test,img_lbl_dict,transform)\n",
        "  #print(f\"train dataset length: {len(train_dataset)} , test dataset length: {len(test_dataset)}\")\n",
        "\n",
        "  ## Initialize train/test dataloaders.\n",
        "  train_dataloader = DataLoader(train_dataset,batch_size=batch_size,num_workers=2,shuffle=True)\n",
        "  test_dataloader = DataLoader(test_dataset,batch_size=batch_size,num_workers=2,shuffle=True)\n",
        "  #print(f\"Number of batches in train DataLoader: {len(train_dataloader)}, Number of batches in test DataLoader: {len(test_dataloader)}\")\n",
        "  t_acc, t_avg_loss, v_acc, v_avg_loss = None, None, None, None\n",
        "  for epoch in range(0,num_epochs):\n",
        "    ## Set model mode to train.\n",
        "    model.train()\n",
        "    t_acc, t_avg_loss = run_epoch(num_epochs,epoch,model,train_dataloader,True)   ## Run epoch\n",
        "\n",
        "    ## Set model mode to evaluation.\n",
        "    ## all steps like above in training mode but for evaluate model on test dataset.\n",
        "    model.eval()\n",
        "    with torch.no_grad():\n",
        "      v_acc, v_avg_loss = run_epoch(None,None,model,test_dataloader,False)        ## Evaluate model\n",
        "\n",
        "  ## Store metrics.\n",
        "  acc.append(v_acc)\n",
        "  losses.append(v_avg_loss)\n"
      ],
      "metadata": {
        "colab": {
          "base_uri": "https://localhost:8080/"
        },
        "id": "MNKatcvEsqXi",
        "outputId": "85f59973-3556-44d7-c5c3-9e0ff769186a"
      },
      "execution_count": 15,
      "outputs": [
        {
          "output_type": "stream",
          "name": "stdout",
          "text": [
            "Fold 1/5\n"
          ]
        },
        {
          "output_type": "stream",
          "name": "stderr",
          "text": [
            "Epoch: [1/10]: 100%|██████████| 56/56 [03:56<00:00,  4.23s/it, Accuracy=0.523, Avg_Loss=0.751, Loss=0.846]\n",
            "Evaluation Step:: 100%|██████████| 14/14 [00:55<00:00,  3.94s/it, Accuracy=0.543, Avg_Loss=0.68, Loss=0.675]\n",
            "Epoch: [2/10]: 100%|██████████| 56/56 [01:10<00:00,  1.25s/it, Accuracy=0.521, Avg_Loss=0.7, Loss=0.737]\n",
            "Evaluation Step:: 100%|██████████| 14/14 [00:17<00:00,  1.22s/it, Accuracy=0.543, Avg_Loss=0.675, Loss=0.636]\n",
            "Epoch: [3/10]: 100%|██████████| 56/56 [01:13<00:00,  1.32s/it, Accuracy=0.578, Avg_Loss=0.684, Loss=0.768]\n",
            "Evaluation Step:: 100%|██████████| 14/14 [00:17<00:00,  1.23s/it, Accuracy=0.575, Avg_Loss=0.673, Loss=0.695]\n",
            "Epoch: [4/10]: 100%|██████████| 56/56 [01:11<00:00,  1.28s/it, Accuracy=0.576, Avg_Loss=0.683, Loss=0.604]\n",
            "Evaluation Step:: 100%|██████████| 14/14 [00:18<00:00,  1.29s/it, Accuracy=0.614, Avg_Loss=0.661, Loss=0.635]\n",
            "Epoch: [5/10]: 100%|██████████| 56/56 [01:10<00:00,  1.25s/it, Accuracy=0.633, Avg_Loss=0.647, Loss=0.615]\n",
            "Evaluation Step:: 100%|██████████| 14/14 [00:17<00:00,  1.27s/it, Accuracy=0.561, Avg_Loss=0.716, Loss=0.843]\n",
            "Epoch: [6/10]: 100%|██████████| 56/56 [01:12<00:00,  1.29s/it, Accuracy=0.665, Avg_Loss=0.616, Loss=0.598]\n",
            "Evaluation Step:: 100%|██████████| 14/14 [00:17<00:00,  1.25s/it, Accuracy=0.554, Avg_Loss=0.696, Loss=0.662]\n",
            "Epoch: [7/10]: 100%|██████████| 56/56 [01:14<00:00,  1.32s/it, Accuracy=0.664, Avg_Loss=0.619, Loss=0.319]\n",
            "Evaluation Step:: 100%|██████████| 14/14 [00:18<00:00,  1.32s/it, Accuracy=0.579, Avg_Loss=0.737, Loss=0.641]\n",
            "Epoch: [8/10]: 100%|██████████| 56/56 [01:15<00:00,  1.34s/it, Accuracy=0.639, Avg_Loss=0.633, Loss=0.678]\n",
            "Evaluation Step:: 100%|██████████| 14/14 [00:17<00:00,  1.26s/it, Accuracy=0.582, Avg_Loss=0.701, Loss=0.743]\n",
            "Epoch: [9/10]: 100%|██████████| 56/56 [01:14<00:00,  1.32s/it, Accuracy=0.769, Avg_Loss=0.503, Loss=0.526]\n",
            "Evaluation Step:: 100%|██████████| 14/14 [00:18<00:00,  1.32s/it, Accuracy=0.611, Avg_Loss=0.663, Loss=0.62]\n",
            "Epoch: [10/10]: 100%|██████████| 56/56 [01:18<00:00,  1.41s/it, Accuracy=0.779, Avg_Loss=0.481, Loss=0.382]\n",
            "Evaluation Step:: 100%|██████████| 14/14 [00:17<00:00,  1.28s/it, Accuracy=0.539, Avg_Loss=0.761, Loss=0.841]\n"
          ]
        },
        {
          "output_type": "stream",
          "name": "stdout",
          "text": [
            "Fold 2/5\n"
          ]
        },
        {
          "output_type": "stream",
          "name": "stderr",
          "text": [
            "Epoch: [1/10]: 100%|██████████| 56/56 [01:14<00:00,  1.33s/it, Accuracy=0.78, Avg_Loss=0.491, Loss=0.677]\n",
            "Evaluation Step:: 100%|██████████| 14/14 [00:16<00:00,  1.18s/it, Accuracy=0.743, Avg_Loss=0.495, Loss=0.675]\n",
            "Epoch: [2/10]: 100%|██████████| 56/56 [01:09<00:00,  1.24s/it, Accuracy=0.842, Avg_Loss=0.361, Loss=0.474]\n",
            "Evaluation Step:: 100%|██████████| 14/14 [00:16<00:00,  1.15s/it, Accuracy=0.886, Avg_Loss=0.254, Loss=0.176]\n",
            "Epoch: [3/10]: 100%|██████████| 56/56 [01:09<00:00,  1.23s/it, Accuracy=0.908, Avg_Loss=0.242, Loss=0.32]\n",
            "Evaluation Step:: 100%|██████████| 14/14 [00:17<00:00,  1.27s/it, Accuracy=0.893, Avg_Loss=0.267, Loss=0.246]\n",
            "Epoch: [4/10]: 100%|██████████| 56/56 [01:11<00:00,  1.27s/it, Accuracy=0.922, Avg_Loss=0.197, Loss=0.294]\n",
            "Evaluation Step:: 100%|██████████| 14/14 [00:16<00:00,  1.17s/it, Accuracy=0.896, Avg_Loss=0.263, Loss=0.265]\n",
            "Epoch: [5/10]: 100%|██████████| 56/56 [01:10<00:00,  1.27s/it, Accuracy=0.946, Avg_Loss=0.148, Loss=0.328]\n",
            "Evaluation Step:: 100%|██████████| 14/14 [00:17<00:00,  1.22s/it, Accuracy=0.843, Avg_Loss=0.427, Loss=0.752]\n",
            "Epoch: [6/10]: 100%|██████████| 56/56 [01:11<00:00,  1.27s/it, Accuracy=0.957, Avg_Loss=0.122, Loss=0.347]\n",
            "Evaluation Step:: 100%|██████████| 14/14 [00:17<00:00,  1.22s/it, Accuracy=0.85, Avg_Loss=0.397, Loss=0.496]\n",
            "Epoch: [7/10]: 100%|██████████| 56/56 [01:12<00:00,  1.30s/it, Accuracy=0.957, Avg_Loss=0.116, Loss=0.266]\n",
            "Evaluation Step:: 100%|██████████| 14/14 [00:18<00:00,  1.33s/it, Accuracy=0.836, Avg_Loss=0.411, Loss=0.406]\n",
            "Epoch: [8/10]: 100%|██████████| 56/56 [01:10<00:00,  1.25s/it, Accuracy=0.969, Avg_Loss=0.0992, Loss=0.366]\n",
            "Evaluation Step:: 100%|██████████| 14/14 [00:16<00:00,  1.16s/it, Accuracy=0.857, Avg_Loss=0.359, Loss=0.499]\n",
            "Epoch: [9/10]: 100%|██████████| 56/56 [01:10<00:00,  1.26s/it, Accuracy=0.977, Avg_Loss=0.0748, Loss=0.0376]\n",
            "Evaluation Step:: 100%|██████████| 14/14 [00:16<00:00,  1.16s/it, Accuracy=0.857, Avg_Loss=0.475, Loss=0.228]\n",
            "Epoch: [10/10]: 100%|██████████| 56/56 [01:13<00:00,  1.31s/it, Accuracy=0.979, Avg_Loss=0.0715, Loss=0.0197]\n",
            "Evaluation Step:: 100%|██████████| 14/14 [00:19<00:00,  1.36s/it, Accuracy=0.846, Avg_Loss=0.46, Loss=0.699]\n"
          ]
        },
        {
          "output_type": "stream",
          "name": "stdout",
          "text": [
            "Fold 3/5\n"
          ]
        },
        {
          "output_type": "stream",
          "name": "stderr",
          "text": [
            "Epoch: [1/10]: 100%|██████████| 56/56 [01:11<00:00,  1.28s/it, Accuracy=0.954, Avg_Loss=0.141, Loss=0.134]\n",
            "Evaluation Step:: 100%|██████████| 14/14 [00:19<00:00,  1.39s/it, Accuracy=0.971, Avg_Loss=0.0891, Loss=0.147]\n",
            "Epoch: [2/10]: 100%|██████████| 56/56 [01:12<00:00,  1.30s/it, Accuracy=0.963, Avg_Loss=0.0941, Loss=0.263]\n",
            "Evaluation Step:: 100%|██████████| 14/14 [00:17<00:00,  1.28s/it, Accuracy=0.982, Avg_Loss=0.0656, Loss=0.0107]\n",
            "Epoch: [3/10]: 100%|██████████| 56/56 [01:16<00:00,  1.37s/it, Accuracy=0.982, Avg_Loss=0.0476, Loss=0.000808]\n",
            "Evaluation Step:: 100%|██████████| 14/14 [00:19<00:00,  1.40s/it, Accuracy=0.986, Avg_Loss=0.0618, Loss=0.000969]\n",
            "Epoch: [4/10]: 100%|██████████| 56/56 [01:16<00:00,  1.36s/it, Accuracy=0.988, Avg_Loss=0.0382, Loss=0.0287]\n",
            "Evaluation Step:: 100%|██████████| 14/14 [00:18<00:00,  1.31s/it, Accuracy=0.979, Avg_Loss=0.079, Loss=0.0198]\n",
            "Epoch: [5/10]: 100%|██████████| 56/56 [01:15<00:00,  1.34s/it, Accuracy=0.995, Avg_Loss=0.0102, Loss=0.0118]\n",
            "Evaluation Step:: 100%|██████████| 14/14 [00:19<00:00,  1.39s/it, Accuracy=0.957, Avg_Loss=0.131, Loss=0.009]\n",
            "Epoch: [6/10]: 100%|██████████| 56/56 [01:15<00:00,  1.35s/it, Accuracy=0.981, Avg_Loss=0.0541, Loss=0.00422]\n",
            "Evaluation Step:: 100%|██████████| 14/14 [00:21<00:00,  1.53s/it, Accuracy=0.946, Avg_Loss=0.113, Loss=0.185]\n",
            "Epoch: [7/10]: 100%|██████████| 56/56 [01:15<00:00,  1.34s/it, Accuracy=0.985, Avg_Loss=0.0433, Loss=0.459]\n",
            "Evaluation Step:: 100%|██████████| 14/14 [00:19<00:00,  1.36s/it, Accuracy=0.968, Avg_Loss=0.0811, Loss=0.00936]\n",
            "Epoch: [8/10]: 100%|██████████| 56/56 [01:17<00:00,  1.38s/it, Accuracy=0.989, Avg_Loss=0.0376, Loss=0.0214]\n",
            "Evaluation Step:: 100%|██████████| 14/14 [00:18<00:00,  1.30s/it, Accuracy=0.971, Avg_Loss=0.0914, Loss=0.258]\n",
            "Epoch: [9/10]: 100%|██████████| 56/56 [01:16<00:00,  1.37s/it, Accuracy=0.995, Avg_Loss=0.0206, Loss=0.0523]\n",
            "Evaluation Step:: 100%|██████████| 14/14 [00:19<00:00,  1.41s/it, Accuracy=0.975, Avg_Loss=0.0683, Loss=0.14]\n",
            "Epoch: [10/10]: 100%|██████████| 56/56 [01:15<00:00,  1.35s/it, Accuracy=0.996, Avg_Loss=0.0178, Loss=0.00287]\n",
            "Evaluation Step:: 100%|██████████| 14/14 [00:17<00:00,  1.28s/it, Accuracy=0.954, Avg_Loss=0.126, Loss=0.263]\n"
          ]
        },
        {
          "output_type": "stream",
          "name": "stdout",
          "text": [
            "Fold 4/5\n"
          ]
        },
        {
          "output_type": "stream",
          "name": "stderr",
          "text": [
            "Epoch: [1/10]: 100%|██████████| 56/56 [01:14<00:00,  1.33s/it, Accuracy=0.979, Avg_Loss=0.0467, Loss=0.0212]\n",
            "Evaluation Step:: 100%|██████████| 14/14 [00:19<00:00,  1.37s/it, Accuracy=0.989, Avg_Loss=0.02, Loss=0.0252]\n",
            "Epoch: [2/10]: 100%|██████████| 56/56 [01:14<00:00,  1.32s/it, Accuracy=0.986, Avg_Loss=0.0456, Loss=0.00335]\n",
            "Evaluation Step:: 100%|██████████| 14/14 [00:20<00:00,  1.43s/it, Accuracy=0.993, Avg_Loss=0.0144, Loss=0.00165]\n",
            "Epoch: [3/10]: 100%|██████████| 56/56 [01:14<00:00,  1.34s/it, Accuracy=0.995, Avg_Loss=0.0194, Loss=0.0062]\n",
            "Evaluation Step:: 100%|██████████| 14/14 [00:17<00:00,  1.26s/it, Accuracy=0.986, Avg_Loss=0.0432, Loss=0.165]\n",
            "Epoch: [4/10]: 100%|██████████| 56/56 [01:16<00:00,  1.36s/it, Accuracy=0.99, Avg_Loss=0.0243, Loss=0.00276]\n",
            "Evaluation Step:: 100%|██████████| 14/14 [00:17<00:00,  1.26s/it, Accuracy=0.986, Avg_Loss=0.0373, Loss=0.00219]\n",
            "Epoch: [5/10]: 100%|██████████| 56/56 [01:14<00:00,  1.34s/it, Accuracy=0.945, Avg_Loss=0.138, Loss=0.329]\n",
            "Evaluation Step:: 100%|██████████| 14/14 [00:19<00:00,  1.41s/it, Accuracy=0.961, Avg_Loss=0.11, Loss=0.0748]\n",
            "Epoch: [6/10]: 100%|██████████| 56/56 [01:12<00:00,  1.30s/it, Accuracy=0.966, Avg_Loss=0.0806, Loss=0.0779]\n",
            "Evaluation Step:: 100%|██████████| 14/14 [00:17<00:00,  1.27s/it, Accuracy=0.986, Avg_Loss=0.0423, Loss=0.00631]\n",
            "Epoch: [7/10]: 100%|██████████| 56/56 [01:12<00:00,  1.30s/it, Accuracy=0.976, Avg_Loss=0.063, Loss=0.0456]\n",
            "Evaluation Step:: 100%|██████████| 14/14 [00:17<00:00,  1.22s/it, Accuracy=0.95, Avg_Loss=0.144, Loss=0.0846]\n",
            "Epoch: [8/10]: 100%|██████████| 56/56 [01:12<00:00,  1.29s/it, Accuracy=0.984, Avg_Loss=0.0375, Loss=0.0038]\n",
            "Evaluation Step:: 100%|██████████| 14/14 [00:18<00:00,  1.34s/it, Accuracy=0.986, Avg_Loss=0.0611, Loss=0.0151]\n",
            "Epoch: [9/10]: 100%|██████████| 56/56 [01:10<00:00,  1.26s/it, Accuracy=0.996, Avg_Loss=0.0085, Loss=0.000446]\n",
            "Evaluation Step:: 100%|██████████| 14/14 [00:16<00:00,  1.19s/it, Accuracy=0.986, Avg_Loss=0.0701, Loss=0.245]\n",
            "Epoch: [10/10]: 100%|██████████| 56/56 [01:11<00:00,  1.27s/it, Accuracy=0.996, Avg_Loss=0.0169, Loss=0.00104]\n",
            "Evaluation Step:: 100%|██████████| 14/14 [00:16<00:00,  1.20s/it, Accuracy=0.996, Avg_Loss=0.0188, Loss=0.0052]\n"
          ]
        },
        {
          "output_type": "stream",
          "name": "stdout",
          "text": [
            "Fold 5/5\n"
          ]
        },
        {
          "output_type": "stream",
          "name": "stderr",
          "text": [
            "Epoch: [1/10]: 100%|██████████| 56/56 [01:10<00:00,  1.27s/it, Accuracy=0.982, Avg_Loss=0.0512, Loss=0.00298]\n",
            "Evaluation Step:: 100%|██████████| 14/14 [00:17<00:00,  1.25s/it, Accuracy=0.993, Avg_Loss=0.0299, Loss=0.000853]\n",
            "Epoch: [2/10]: 100%|██████████| 56/56 [01:12<00:00,  1.29s/it, Accuracy=0.996, Avg_Loss=0.0114, Loss=0.0371]\n",
            "Evaluation Step:: 100%|██████████| 14/14 [00:16<00:00,  1.19s/it, Accuracy=0.993, Avg_Loss=0.0198, Loss=0.000419]\n",
            "Epoch: [3/10]: 100%|██████████| 56/56 [01:11<00:00,  1.27s/it, Accuracy=0.956, Avg_Loss=0.121, Loss=0.0151]\n",
            "Evaluation Step:: 100%|██████████| 14/14 [00:17<00:00,  1.24s/it, Accuracy=0.982, Avg_Loss=0.0421, Loss=0.0058]\n",
            "Epoch: [4/10]: 100%|██████████| 56/56 [01:10<00:00,  1.26s/it, Accuracy=0.989, Avg_Loss=0.0352, Loss=0.016]\n",
            "Evaluation Step:: 100%|██████████| 14/14 [00:16<00:00,  1.19s/it, Accuracy=0.979, Avg_Loss=0.0678, Loss=0.0199]\n",
            "Epoch: [5/10]: 100%|██████████| 56/56 [01:13<00:00,  1.31s/it, Accuracy=0.98, Avg_Loss=0.062, Loss=0.00641]\n",
            "Evaluation Step:: 100%|██████████| 14/14 [00:17<00:00,  1.22s/it, Accuracy=0.993, Avg_Loss=0.0313, Loss=0.16]\n",
            "Epoch: [6/10]: 100%|██████████| 56/56 [01:10<00:00,  1.26s/it, Accuracy=0.992, Avg_Loss=0.0217, Loss=0.00681]\n",
            "Evaluation Step:: 100%|██████████| 14/14 [00:16<00:00,  1.20s/it, Accuracy=0.993, Avg_Loss=0.0239, Loss=0.0176]\n",
            "Epoch: [7/10]: 100%|██████████| 56/56 [01:10<00:00,  1.26s/it, Accuracy=0.996, Avg_Loss=0.00671, Loss=0.0577]\n",
            "Evaluation Step:: 100%|██████████| 14/14 [00:17<00:00,  1.28s/it, Accuracy=0.993, Avg_Loss=0.0187, Loss=0.00129]\n",
            "Epoch: [8/10]: 100%|██████████| 56/56 [01:12<00:00,  1.29s/it, Accuracy=0.999, Avg_Loss=0.00262, Loss=9.9e-5]\n",
            "Evaluation Step:: 100%|██████████| 14/14 [00:16<00:00,  1.21s/it, Accuracy=0.996, Avg_Loss=0.0179, Loss=0.000285]\n",
            "Epoch: [9/10]: 100%|██████████| 56/56 [01:10<00:00,  1.26s/it, Accuracy=0.998, Avg_Loss=0.00176, Loss=7.75e-5]\n",
            "Evaluation Step:: 100%|██████████| 14/14 [00:17<00:00,  1.23s/it, Accuracy=0.993, Avg_Loss=0.0263, Loss=0.00315]\n",
            "Epoch: [10/10]: 100%|██████████| 56/56 [01:11<00:00,  1.28s/it, Accuracy=0.999, Avg_Loss=0.00179, Loss=0.0673]\n",
            "Evaluation Step:: 100%|██████████| 14/14 [00:16<00:00,  1.20s/it, Accuracy=0.993, Avg_Loss=0.0249, Loss=0.0396]\n"
          ]
        }
      ]
    },
    {
      "cell_type": "code",
      "source": [
        "print(\"Model Performance:\")\n",
        "print(f\"Model average loss:{sum(losses)/len(losses)}, Model average Accuracy: {100*sum(acc)/len(acc)}%\")"
      ],
      "metadata": {
        "colab": {
          "base_uri": "https://localhost:8080/"
        },
        "id": "sq_JyOSO9Obr",
        "outputId": "23b26ee1-456a-4d3c-f2bc-e7e7bec25a17"
      },
      "execution_count": 16,
      "outputs": [
        {
          "output_type": "stream",
          "name": "stdout",
          "text": [
            "Model Performance:\n",
            "Model average loss:0.2779923041622948, Model average Accuracy: 86.57142857142858%\n"
          ]
        }
      ]
    },
    {
      "cell_type": "code",
      "source": [
        "plt.plot(range(1,K+1),acc,color=\"blue\",linewidth = 2,marker='o', markerfacecolor='red', markersize=12)\n",
        "plt.title(\"Accuracy\")\n",
        "plt.xlabel(\"Fold\")\n",
        "plt.ylabel(\"Accuracy\")\n",
        "plt.show()"
      ],
      "metadata": {
        "colab": {
          "base_uri": "https://localhost:8080/",
          "height": 472
        },
        "id": "MmjqUCHw6slK",
        "outputId": "2b5b4f08-9136-409a-d3d3-0e25417dde79"
      },
      "execution_count": 17,
      "outputs": [
        {
          "output_type": "display_data",
          "data": {
            "text/plain": [
              "<Figure size 640x480 with 1 Axes>"
            ],
            "image/png": "[encoded data removed]"
          },
          "metadata": {}
        }
      ]
    },
    {
      "cell_type": "code",
      "source": [
        "plt.plot(range(1,K+1),losses,color='red',linewidth=2,marker='o', markerfacecolor='blue', markersize=12)\n",
        "plt.title(\"Loss\")\n",
        "plt.xlabel(\"Fold\")\n",
        "plt.ylabel(\"Avg loss\")\n",
        "plt.show()"
      ],
      "metadata": {
        "colab": {
          "base_uri": "https://localhost:8080/",
          "height": 472
        },
        "id": "TpHZIPAC6vHJ",
        "outputId": "8af1152a-f3eb-4607-959c-bb3d3dc87355"
      },
      "execution_count": 18,
      "outputs": [
        {
          "output_type": "display_data",
          "data": {
            "text/plain": [
              "<Figure size 640x480 with 1 Axes>"
            ],
            "image/png": "[encoded data removed]"
          },
          "metadata": {}
        }
      ]
    },
    {
      "cell_type": "code",
      "source": [
        "#g_images_paths = create_images_list(gamze_images_dir,sort=True,fullPath=True)\n",
        "#g_labels = pd.read_excel(gamze_excel_path,header=None,keep_default_na=False)\n",
        "#g_img_lbl_dict = create_img_label_dict(g_images_paths,g_labels,1)"
      ],
      "metadata": {
        "id": "YgyJQEiNxTYh"
      },
      "execution_count": null,
      "outputs": []
    },
    {
      "cell_type": "code",
      "source": [
        "test_data = ImageDataset(test_images,img_lbl_dict,transform)\n",
        "test_loader = DataLoader(test_data,batch_size=batch_size,shuffle=True)\n",
        "total_samples = 0\n",
        "test_labels = []\n",
        "predicted = []\n",
        "model.eval()\n",
        "with torch.no_grad():\n",
        "  for i, (imgs, labels) in enumerate(test_loader):\n",
        "    imgs = imgs.to(device)\n",
        "    labels = labels.to(device)\n",
        "    outputs = model(imgs)\n",
        "    predictions = outputs.argmax(dim=1, keepdim=True).squeeze()\n",
        "    total_samples += len(predictions)\n",
        "    test_labels.extend(labels.tolist())\n",
        "    predicted.extend(predictions.tolist())\n",
        "print(f\"Number of samples: {total_samples}\")"
      ],
      "metadata": {
        "colab": {
          "base_uri": "https://localhost:8080/"
        },
        "id": "6JqtrhoJ7W3o",
        "outputId": "0a990497-d123-4567-8d22-2e3d3befe308"
      },
      "execution_count": 19,
      "outputs": [
        {
          "output_type": "stream",
          "name": "stdout",
          "text": [
            "Number of samples: 97\n"
          ]
        }
      ]
    },
    {
      "cell_type": "code",
      "source": [
        "F1 = f1_score(test_labels,predicted)\n",
        "precision = precision_score(test_labels,predicted)\n",
        "recall = recall_score(test_labels,predicted)\n",
        "accuracy = accuracy_score(test_labels,predicted)\n",
        "print(f\"Accuracy: {accuracy}, Precision: {precision}, Recall: {recall}, F1 score: {F1}\")\n",
        "create_cm(test_labels,predicted,classes)"
      ],
      "metadata": {
        "colab": {
          "base_uri": "https://localhost:8080/",
          "height": 489
        },
        "id": "0r-9Hng97xgp",
        "outputId": "880888dc-cde6-4da0-b9f8-5f08d4b3237f"
      },
      "execution_count": 20,
      "outputs": [
        {
          "output_type": "stream",
          "name": "stdout",
          "text": [
            "Accuracy: 0.5154639175257731, Precision: 0.5, Recall: 0.5319148936170213, F1 score: 0.5154639175257731\n"
          ]
        },
        {
          "output_type": "display_data",
          "data": {
            "text/plain": [
              "<Figure size 640x480 with 2 Axes>"
            ],
            "image/png": "[encoded data removed]"
          },
          "metadata": {}
        }
      ]
    }
  ]
}
